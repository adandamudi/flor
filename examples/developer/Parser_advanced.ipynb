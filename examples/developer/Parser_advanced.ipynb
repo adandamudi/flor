{
 "cells": [
  {
   "cell_type": "code",
   "execution_count": 1,
   "metadata": {},
   "outputs": [],
   "source": [
    "import ast, astor"
   ]
  },
  {
   "cell_type": "code",
   "execution_count": 65,
   "metadata": {},
   "outputs": [],
   "source": [
    "tree = ast.parse(\"print(\\\"hello world\\\")\\nprint('hola mundo')\")"
   ]
  },
  {
   "cell_type": "code",
   "execution_count": 66,
   "metadata": {},
   "outputs": [
    {
     "name": "stdout",
     "output_type": "stream",
     "text": [
      "Module(\n",
      "    body=[\n",
      "        Expr(value=Call(func=Name(id='print'), args=[Str(s='hello world')], keywords=[])),\n",
      "        Expr(value=Call(func=Name(id='print'), args=[Str(s='hola mundo')], keywords=[]))])\n"
     ]
    }
   ],
   "source": [
    "print(astor.dump_tree(tree))"
   ]
  },
  {
   "cell_type": "code",
   "execution_count": 67,
   "metadata": {},
   "outputs": [
    {
     "name": "stdout",
     "output_type": "stream",
     "text": [
      "Module here\n",
      "Expr here\n",
      "Call here\n",
      "String: hello world\n",
      "Expr here\n",
      "Call here\n",
      "String: hola mundo\n"
     ]
    }
   ],
   "source": [
    "class Huesped(ast.NodeVisitor):\n",
    "    def visit_Module(self, node):\n",
    "        print(\"Module here\")\n",
    "        return super().generic_visit(node)\n",
    "    def visit_Expr(self, node):\n",
    "        print(\"Expr here\")\n",
    "        return super().generic_visit(node)\n",
    "    def visit_Call(self, node):\n",
    "        print(\"Call here\")\n",
    "        return super().generic_visit(node)\n",
    "    def visit_Str(self, node):\n",
    "        print(\"String: {}\".format(node.s))\n",
    "        return super().generic_visit(node)\n",
    "    def visit_Num(self, node):\n",
    "        print(\"Num: {}\".format(node.n))\n",
    "        return super().generic_visit(node)\n",
    "Huesped().visit(tree)"
   ]
  },
  {
   "cell_type": "code",
   "execution_count": 68,
   "metadata": {},
   "outputs": [
    {
     "name": "stdout",
     "output_type": "stream",
     "text": [
      "Module here\n",
      "Expr here\n",
      "Call here\n",
      "String: hello world\n",
      "Expr here\n",
      "Call here\n",
      "String: hola mundo\n",
      "Call here\n"
     ]
    },
    {
     "data": {
      "text/plain": [
       "<_ast.Module at 0x103745438>"
      ]
     },
     "execution_count": 68,
     "metadata": {},
     "output_type": "execute_result"
    }
   ],
   "source": [
    "class Tranformer(ast.NodeTransformer):\n",
    "    def visit_Module(self, node):\n",
    "        print(\"Module here\")\n",
    "        return super().generic_visit(node)\n",
    "    def visit_Expr(self, node):\n",
    "        print(\"Expr here\")\n",
    "        return super().generic_visit(node)\n",
    "    def visit_Call(self, node):\n",
    "        print(\"Call here\")\n",
    "        return super().generic_visit(node)\n",
    "    def visit_Str(self, node):\n",
    "        print(\"String: {}\".format(node.s))\n",
    "        if node.s == 'hola mundo':\n",
    "            interim = ast.parse(\"[i for i in range(10)]\").body[0].value\n",
    "            # ast.copy_location(interim, node)\n",
    "            return super().generic_visit(interim)\n",
    "        return super().generic_visit(node)\n",
    "Tranformer().visit(tree)"
   ]
  },
  {
   "cell_type": "code",
   "execution_count": 69,
   "metadata": {},
   "outputs": [
    {
     "name": "stdout",
     "output_type": "stream",
     "text": [
      "Module here\n",
      "Expr here\n",
      "Call here\n",
      "String: hello world\n",
      "Expr here\n",
      "Call here\n",
      "Call here\n",
      "Num: 10\n"
     ]
    }
   ],
   "source": [
    "Huesped().visit(tree)"
   ]
  },
  {
   "cell_type": "code",
   "execution_count": 70,
   "metadata": {},
   "outputs": [
    {
     "name": "stdout",
     "output_type": "stream",
     "text": [
      "Module(\n",
      "    body=[\n",
      "        Expr(value=Call(func=Name(id='print'), args=[Str(s='hello world')], keywords=[])),\n",
      "        Expr(\n",
      "            value=Call(func=Name(id='print'),\n",
      "                args=[\n",
      "                    ListComp(elt=Name(id='i'),\n",
      "                        generators=[\n",
      "                            comprehension(target=Name(id='i'),\n",
      "                                iter=Call(func=Name(id='range'), args=[Num(n=10)], keywords=[]),\n",
      "                                ifs=[],\n",
      "                                is_async=0)])],\n",
      "                keywords=[]))])\n"
     ]
    }
   ],
   "source": [
    "print(astor.dump_tree(tree))"
   ]
  },
  {
   "cell_type": "code",
   "execution_count": 71,
   "metadata": {},
   "outputs": [
    {
     "name": "stdout",
     "output_type": "stream",
     "text": [
      "hello world\n",
      "[0, 1, 2, 3, 4, 5, 6, 7, 8, 9]\n"
     ]
    }
   ],
   "source": [
    "exec(compile(tree, filename=\"<ast>\", mode=\"exec\"))"
   ]
  },
  {
   "cell_type": "code",
   "execution_count": null,
   "metadata": {},
   "outputs": [],
   "source": []
  }
 ],
 "metadata": {
  "kernelspec": {
   "display_name": "Python 3",
   "language": "python",
   "name": "python3"
  },
  "language_info": {
   "codemirror_mode": {
    "name": "ipython",
    "version": 3
   },
   "file_extension": ".py",
   "mimetype": "text/x-python",
   "name": "python",
   "nbconvert_exporter": "python",
   "pygments_lexer": "ipython3",
   "version": "3.6.4"
  }
 },
 "nbformat": 4,
 "nbformat_minor": 2
}
