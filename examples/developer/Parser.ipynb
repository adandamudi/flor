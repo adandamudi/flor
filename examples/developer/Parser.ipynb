{
 "cells": [
  {
   "cell_type": "code",
   "execution_count": 1,
   "metadata": {},
   "outputs": [],
   "source": [
    "import ast, astor"
   ]
  },
  {
   "cell_type": "code",
   "execution_count": 34,
   "metadata": {},
   "outputs": [],
   "source": [
    "tree = ast.parse(\"print(\\\"hello world\\\")\")"
   ]
  },
  {
   "cell_type": "code",
   "execution_count": 36,
   "metadata": {},
   "outputs": [
    {
     "data": {
      "text/plain": [
       "\"Module(body=[Expr(value=Call(func=Name(id='print'), args=[Str(s='hello world')], keywords=[]))])\""
      ]
     },
     "execution_count": 36,
     "metadata": {},
     "output_type": "execute_result"
    }
   ],
   "source": [
    "astor.dump_tree(tree)"
   ]
  },
  {
   "cell_type": "code",
   "execution_count": 38,
   "metadata": {},
   "outputs": [
    {
     "name": "stdout",
     "output_type": "stream",
     "text": [
      "Module here\n",
      "Expr here\n",
      "Call here\n",
      "String: hello world\n"
     ]
    }
   ],
   "source": [
    "class Huesped(ast.NodeVisitor):\n",
    "    def visit_Module(self, node):\n",
    "        print(\"Module here\")\n",
    "        return super().generic_visit(node)\n",
    "    def visit_Expr(self, node):\n",
    "        print(\"Expr here\")\n",
    "        return super().generic_visit(node)\n",
    "    def visit_Call(self, node):\n",
    "        print(\"Call here\")\n",
    "        return super().generic_visit(node)\n",
    "    def visit_Str(self, node):\n",
    "        print(\"String: {}\".format(node.s))\n",
    "        return super().generic_visit(node)\n",
    "    def visit_Num(self, node):\n",
    "        print(\"Num: {}\".format(node.n))\n",
    "        return super().generic_visit(node)\n",
    "Huesped().visit(tree)"
   ]
  },
  {
   "cell_type": "code",
   "execution_count": 39,
   "metadata": {},
   "outputs": [
    {
     "name": "stdout",
     "output_type": "stream",
     "text": [
      "Module here\n",
      "Expr here\n",
      "Call here\n",
      "String: hello world\n"
     ]
    },
    {
     "data": {
      "text/plain": [
       "<_ast.Module at 0x1036d8048>"
      ]
     },
     "execution_count": 39,
     "metadata": {},
     "output_type": "execute_result"
    }
   ],
   "source": [
    "class Tranformer(ast.NodeTransformer):\n",
    "    def visit_Module(self, node):\n",
    "        print(\"Module here\")\n",
    "        return super().generic_visit(node)\n",
    "    def visit_Expr(self, node):\n",
    "        print(\"Expr here\")\n",
    "        return super().generic_visit(node)\n",
    "    def visit_Call(self, node):\n",
    "        print(\"Call here\")\n",
    "        return super().generic_visit(node)\n",
    "    def visit_Str(self, node):\n",
    "        print(\"String: {}\".format(node.s))\n",
    "        interim = ast.parse(\"5\").body[0].value\n",
    "        ast.copy_location(interim, node)\n",
    "        return super().generic_visit(interim)\n",
    "Tranformer().visit(tree)"
   ]
  },
  {
   "cell_type": "code",
   "execution_count": 40,
   "metadata": {},
   "outputs": [
    {
     "name": "stdout",
     "output_type": "stream",
     "text": [
      "Module here\n",
      "Expr here\n",
      "Call here\n",
      "Num: 5\n"
     ]
    }
   ],
   "source": [
    "Huesped().visit(tree)"
   ]
  },
  {
   "cell_type": "code",
   "execution_count": 41,
   "metadata": {},
   "outputs": [
    {
     "data": {
      "text/plain": [
       "\"Module(body=[Expr(value=Call(func=Name(id='print'), args=[Num(n=5)], keywords=[]))])\""
      ]
     },
     "execution_count": 41,
     "metadata": {},
     "output_type": "execute_result"
    }
   ],
   "source": [
    "astor.dump_tree(tree)"
   ]
  },
  {
   "cell_type": "code",
   "execution_count": 42,
   "metadata": {},
   "outputs": [
    {
     "name": "stdout",
     "output_type": "stream",
     "text": [
      "5\n"
     ]
    }
   ],
   "source": [
    "exec(compile(tree, filename=\"<ast>\", mode=\"exec\"))"
   ]
  },
  {
   "cell_type": "code",
   "execution_count": null,
   "metadata": {},
   "outputs": [],
   "source": []
  }
 ],
 "metadata": {
  "kernelspec": {
   "display_name": "Python 3",
   "language": "python",
   "name": "python3"
  },
  "language_info": {
   "codemirror_mode": {
    "name": "ipython",
    "version": 3
   },
   "file_extension": ".py",
   "mimetype": "text/x-python",
   "name": "python",
   "nbconvert_exporter": "python",
   "pygments_lexer": "ipython3",
   "version": "3.6.4"
  }
 },
 "nbformat": 4,
 "nbformat_minor": 2
}
